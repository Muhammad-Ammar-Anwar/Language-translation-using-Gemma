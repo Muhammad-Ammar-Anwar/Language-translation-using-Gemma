{
 "cells": [
  {
   "cell_type": "code",
   "execution_count": 2,
   "id": "10d28f42",
   "metadata": {},
   "outputs": [
    {
     "data": {
      "text/plain": [
       "True"
      ]
     },
     "execution_count": 2,
     "metadata": {},
     "output_type": "execute_result"
    }
   ],
   "source": [
    "import os \n",
    "from dotenv import load_dotenv\n",
    "load_dotenv()"
   ]
  },
  {
   "cell_type": "code",
   "execution_count": 3,
   "id": "ec2b63cc",
   "metadata": {},
   "outputs": [
    {
     "data": {
      "text/plain": [
       "'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'"
      ]
     },
     "execution_count": 3,
     "metadata": {},
     "output_type": "execute_result"
    }
   ],
   "source": [
    "groq_api_key=os.getenv(\"GROQ_API_KEY\")\n",
    "groq_api_key"
   ]
  },
  {
   "cell_type": "code",
   "execution_count": 4,
   "id": "d76f330d",
   "metadata": {},
   "outputs": [],
   "source": [
    "from langchain_groq import ChatGroq\n",
    "\n",
    "model=ChatGroq(model='Gemma2-9b-It',groq_api_key=groq_api_key)"
   ]
  },
  {
   "cell_type": "code",
   "execution_count": 5,
   "id": "9683b6e8",
   "metadata": {},
   "outputs": [
    {
     "data": {
      "text/plain": [
       "ChatGroq(client=<groq.resources.chat.completions.Completions object at 0x0000020F94465280>, async_client=<groq.resources.chat.completions.AsyncCompletions object at 0x0000020F944663C0>, model_name='Gemma2-9b-It', model_kwargs={}, groq_api_key=SecretStr('**********'))"
      ]
     },
     "execution_count": 5,
     "metadata": {},
     "output_type": "execute_result"
    }
   ],
   "source": [
    "model"
   ]
  },
  {
   "cell_type": "code",
   "execution_count": 7,
   "id": "3ea84d44",
   "metadata": {},
   "outputs": [
    {
     "data": {
      "text/plain": [
       "AIMessage(content='Hello! 👋  How can I help you today? 😊\\n', additional_kwargs={}, response_metadata={'token_usage': {'completion_tokens': 15, 'prompt_tokens': 11, 'total_tokens': 26, 'completion_time': 0.027272727, 'prompt_time': 0.001941626, 'queue_time': 0.019613482, 'total_time': 0.029214353}, 'model_name': 'Gemma2-9b-It', 'system_fingerprint': 'fp_10c08bf97d', 'finish_reason': 'stop', 'logprobs': None}, id='run--202f4929-adbe-4cbd-8fc8-b12c14d6048a-0', usage_metadata={'input_tokens': 11, 'output_tokens': 15, 'total_tokens': 26})"
      ]
     },
     "execution_count": 7,
     "metadata": {},
     "output_type": "execute_result"
    }
   ],
   "source": [
    "model.invoke('hi')"
   ]
  },
  {
   "cell_type": "code",
   "execution_count": 26,
   "id": "0cbddbcc",
   "metadata": {},
   "outputs": [],
   "source": [
    "from langchain_core.messages import HumanMessage,SystemMessage\n",
    "\n",
    "messages=[\n",
    "    SystemMessage(content=\"Translate the following from English to Urdu\"),\n",
    "    HumanMessage(content=\"Hello how are you?\")\n",
    "]\n",
    "\n",
    "result=model.invoke(messages)"
   ]
  },
  {
   "cell_type": "code",
   "execution_count": 11,
   "id": "a3e62e64",
   "metadata": {},
   "outputs": [
    {
     "data": {
      "text/plain": [
       "AIMessage(content=\"Bonjour, comment allez-vous ? \\n\\n\\nLet me know if you have any other phrases you'd like translated!\\n\", additional_kwargs={}, response_metadata={'token_usage': {'completion_tokens': 27, 'prompt_tokens': 21, 'total_tokens': 48, 'completion_time': 0.049090909, 'prompt_time': 0.002132324, 'queue_time': 0.017646414, 'total_time': 0.051223233}, 'model_name': 'Gemma2-9b-It', 'system_fingerprint': 'fp_10c08bf97d', 'finish_reason': 'stop', 'logprobs': None}, id='run--dcb1f143-2a87-4d68-b798-ce88b2fdb347-0', usage_metadata={'input_tokens': 21, 'output_tokens': 27, 'total_tokens': 48})"
      ]
     },
     "execution_count": 11,
     "metadata": {},
     "output_type": "execute_result"
    }
   ],
   "source": [
    "result"
   ]
  },
  {
   "cell_type": "code",
   "execution_count": 28,
   "id": "df89935c",
   "metadata": {},
   "outputs": [
    {
     "data": {
      "text/plain": [
       "'The most common and natural way to say \"Hello, how are you?\" in Urdu is:\\n\\n**سلام، آپ کیسے ہیں؟** \\n\\n(Salam, aap kaise hain?)\\n\\n\\nHere\\'s a breakdown:\\n\\n* **سلام (Salam)**:  This means \"Hello\" or \"Greetings\"\\n* **آپ (aap)**: This is the formal \"you\" \\n* **کیسے ہیں؟ (kaise hain?)**: This means \"how are you?\"\\n\\n\\nLet me know if you\\'d like to know other ways to say this, or have any other translations you need!\\n'"
      ]
     },
     "execution_count": 28,
     "metadata": {},
     "output_type": "execute_result"
    }
   ],
   "source": [
    "from langchain_core.output_parsers import StrOutputParser\n",
    "parser=StrOutputParser()\n",
    "parser.invoke(result)"
   ]
  },
  {
   "cell_type": "code",
   "execution_count": 27,
   "id": "5db4d95d",
   "metadata": {},
   "outputs": [
    {
     "data": {
      "text/plain": [
       "'There are a couple of ways to say \"Hello, how are you?\" in Urdu:\\n\\n**Formal:**\\n\\n* **سلام، آپ کیسے ہیں؟** (Salam, aap kaise hain?)\\n\\n**Informal:**\\n\\n* **کیا حال ہے؟** (Kya haal hai?) \\n* **ہ ello، کیسے ہو؟** (Hello, kaise ho?)\\n\\nYou can use the formal greeting with people you don\\'t know well or who are older than you. The informal greetings are used with friends and family. \\n\\n\\nLet me know if you have any other phrases you\\'d like translated!\\n'"
      ]
     },
     "execution_count": 27,
     "metadata": {},
     "output_type": "execute_result"
    }
   ],
   "source": [
    "chain=model|parser\n",
    "chain.invoke(messages)"
   ]
  },
  {
   "cell_type": "code",
   "execution_count": 16,
   "id": "0cf7b08a",
   "metadata": {},
   "outputs": [],
   "source": [
    "from langchain_core.prompts import ChatPromptTemplate\n",
    "\n",
    "generic_templete=\"Translate the following into {language}:\"\n",
    "\n",
    "prompt=ChatPromptTemplate.from_messages(\n",
    "    [(\"system\",generic_templete),(\"user\",\"{text}\")]\n",
    ")\n"
   ]
  },
  {
   "cell_type": "code",
   "execution_count": 25,
   "id": "6adc8319",
   "metadata": {},
   "outputs": [],
   "source": [
    "result=prompt.invoke({\"language\":\"Salam\",\"text\":\"hello\"})"
   ]
  },
  {
   "cell_type": "code",
   "execution_count": 20,
   "id": "6b7e8c4e",
   "metadata": {},
   "outputs": [
    {
     "data": {
      "text/plain": [
       "[SystemMessage(content='Translate the following into French:', additional_kwargs={}, response_metadata={}),\n",
       " HumanMessage(content='hello', additional_kwargs={}, response_metadata={})]"
      ]
     },
     "execution_count": 20,
     "metadata": {},
     "output_type": "execute_result"
    }
   ],
   "source": [
    "result.to_messages()"
   ]
  },
  {
   "cell_type": "code",
   "execution_count": 24,
   "id": "7aee6061",
   "metadata": {},
   "outputs": [
    {
     "data": {
      "text/plain": [
       "'سلام (Salam) \\n'"
      ]
     },
     "execution_count": 24,
     "metadata": {},
     "output_type": "execute_result"
    }
   ],
   "source": [
    "chain=prompt|model|parser\n",
    "chain.invoke({\"language\":\"Urdu\",\"text\":\"hello\"})"
   ]
  },
  {
   "cell_type": "code",
   "execution_count": null,
   "id": "1eafa14f",
   "metadata": {},
   "outputs": [],
   "source": []
  }
 ],
 "metadata": {
  "kernelspec": {
   "display_name": "myenv",
   "language": "python",
   "name": "python3"
  },
  "language_info": {
   "codemirror_mode": {
    "name": "ipython",
    "version": 3
   },
   "file_extension": ".py",
   "mimetype": "text/x-python",
   "name": "python",
   "nbconvert_exporter": "python",
   "pygments_lexer": "ipython3",
   "version": "3.12.5"
  }
 },
 "nbformat": 4,
 "nbformat_minor": 5
}
